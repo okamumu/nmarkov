{
 "cells": [
  {
   "cell_type": "code",
   "execution_count": 1,
   "metadata": {},
   "outputs": [],
   "source": [
    "import numpy as np\n",
    "from scipy import sparse\n",
    "from scipy import stats\n",
    "import matplotlib.pyplot as plt\n",
    "import nmarkov as nm"
   ]
  },
  {
   "cell_type": "markdown",
   "metadata": {},
   "source": [
    "## Set CTMC kernel and the first derivative"
   ]
  },
  {
   "cell_type": "code",
   "execution_count": 2,
   "metadata": {},
   "outputs": [],
   "source": [
    "Q=sparse.csc_matrix(np.array([[-5,2,3],[2,-3,1],[1,1,-2]], dtype=np.float))\n",
    "dQ = np.array([[-1,1,0],[0,0,0],[0,0,0]], dtype=np.float)"
   ]
  },
  {
   "cell_type": "markdown",
   "metadata": {},
   "source": [
    "## Set initial probability vector and reward vector"
   ]
  },
  {
   "cell_type": "code",
   "execution_count": 3,
   "metadata": {},
   "outputs": [],
   "source": [
    "x0=np.array([1,0,0])\n",
    "rwd=np.array([1,10,0])"
   ]
  },
  {
   "cell_type": "markdown",
   "metadata": {},
   "source": [
    "## Transient solution: State probabilities and sojourn times in [0,1]"
   ]
  },
  {
   "cell_type": "code",
   "execution_count": 4,
   "metadata": {},
   "outputs": [],
   "source": [
    "v=nm.tprob(Q=Q, x0=x0, t=np.linspace(0, 1, num=100))"
   ]
  },
  {
   "cell_type": "code",
   "execution_count": 5,
   "metadata": {},
   "outputs": [
    {
     "data": {
      "text/plain": [
       "array([[1.        , 0.        , 0.        ],\n",
       "       [0.95109279, 0.01955302, 0.02935419],\n",
       "       [0.90524703, 0.03786302, 0.05688995],\n",
       "       [0.86227092, 0.05500856, 0.08272052],\n",
       "       [0.82198465, 0.07106326, 0.10695209],\n",
       "       [0.78421969, 0.0860961 , 0.12968422],\n",
       "       [0.74881809, 0.10017169, 0.15101022],\n",
       "       [0.71563178, 0.1133506 , 0.17101761],\n",
       "       [0.684522  , 0.12568958, 0.18978842],\n",
       "       [0.65535866, 0.13724177, 0.20739957],\n",
       "       [0.62801983, 0.14805699, 0.22392318],\n",
       "       [0.60239124, 0.15818191, 0.23942685],\n",
       "       [0.57836577, 0.16766025, 0.25397398],\n",
       "       [0.55584301, 0.176533  , 0.267624  ],\n",
       "       [0.53472884, 0.18483851, 0.28043264],\n",
       "       [0.51493506, 0.19261277, 0.29245217],\n",
       "       [0.49637898, 0.19988946, 0.30373156],\n",
       "       [0.4789831 , 0.20670015, 0.31431675],\n",
       "       [0.46267477, 0.2130744 , 0.32425083],\n",
       "       [0.44738589, 0.21903994, 0.33357417],\n",
       "       [0.43305265, 0.2246227 , 0.34232465],\n",
       "       [0.41961522, 0.22984701, 0.35053778],\n",
       "       [0.4070175 , 0.23473564, 0.35824685],\n",
       "       [0.39520696, 0.23930995, 0.36548309],\n",
       "       [0.3841343 , 0.24358991, 0.37227579],\n",
       "       [0.37375335, 0.24759427, 0.37865238],\n",
       "       [0.36402082, 0.25134055, 0.38463863],\n",
       "       [0.35489613, 0.25484519, 0.39025867],\n",
       "       [0.34634125, 0.2581236 , 0.39553515],\n",
       "       [0.33832051, 0.26119019, 0.4004893 ],\n",
       "       [0.33080051, 0.26405846, 0.40514104],\n",
       "       [0.32374991, 0.26674107, 0.40950903],\n",
       "       [0.31713935, 0.26924987, 0.41361078],\n",
       "       [0.31094131, 0.27159596, 0.41746274],\n",
       "       [0.30512998, 0.27378974, 0.42108029],\n",
       "       [0.29968118, 0.27584094, 0.42447789],\n",
       "       [0.29457224, 0.27775869, 0.42766908],\n",
       "       [0.2897819 , 0.27955152, 0.43066658],\n",
       "       [0.28529026, 0.28122744, 0.4334823 ],\n",
       "       [0.28107862, 0.28279395, 0.43612743],\n",
       "       [0.2771295 , 0.28425805, 0.43861245],\n",
       "       [0.27342648, 0.28562631, 0.4409472 ],\n",
       "       [0.26995418, 0.2869049 , 0.44314091],\n",
       "       [0.26669819, 0.28809958, 0.44520223],\n",
       "       [0.26364498, 0.28921573, 0.44713928],\n",
       "       [0.2607819 , 0.29025842, 0.44895968],\n",
       "       [0.25809705, 0.29123237, 0.45067057],\n",
       "       [0.25557932, 0.29214202, 0.45227866],\n",
       "       [0.25321825, 0.29299151, 0.45379023],\n",
       "       [0.25100408, 0.29378473, 0.45521119],\n",
       "       [0.24892762, 0.29452532, 0.45654706],\n",
       "       [0.24698029, 0.29521667, 0.45780305],\n",
       "       [0.24515401, 0.29586197, 0.45898402],\n",
       "       [0.24344124, 0.29646422, 0.46009454],\n",
       "       [0.24183489, 0.29702619, 0.46113891],\n",
       "       [0.24032833, 0.29755052, 0.46212116],\n",
       "       [0.23891532, 0.29803963, 0.46304505],\n",
       "       [0.23759003, 0.29849584, 0.46391413],\n",
       "       [0.236347  , 0.29892127, 0.46473173],\n",
       "       [0.23518109, 0.29931794, 0.46550097],\n",
       "       [0.2340875 , 0.29968772, 0.46622478],\n",
       "       [0.23306171, 0.30003237, 0.46690591],\n",
       "       [0.23209951, 0.30035355, 0.46754694],\n",
       "       [0.23119693, 0.30065278, 0.46815029],\n",
       "       [0.23035026, 0.3009315 , 0.46871824],\n",
       "       [0.22955601, 0.30119107, 0.46925292],\n",
       "       [0.22881092, 0.30143275, 0.46975633],\n",
       "       [0.22811193, 0.30165771, 0.47023035],\n",
       "       [0.22745618, 0.30186707, 0.47067675],\n",
       "       [0.22684096, 0.30206184, 0.47109719],\n",
       "       [0.22626377, 0.30224301, 0.47149322],\n",
       "       [0.22572223, 0.30241146, 0.47186631],\n",
       "       [0.22521413, 0.30256806, 0.47221782],\n",
       "       [0.22473738, 0.30271357, 0.47254904],\n",
       "       [0.22429005, 0.30284876, 0.47286119],\n",
       "       [0.2238703 , 0.3029743 , 0.4731554 ],\n",
       "       [0.22347642, 0.30309085, 0.47343274],\n",
       "       [0.2231068 , 0.303199  , 0.4736942 ],\n",
       "       [0.22275993, 0.30329933, 0.47394074],\n",
       "       [0.22243442, 0.30339236, 0.47417323],\n",
       "       [0.22212892, 0.30347858, 0.4743925 ],\n",
       "       [0.2218422 , 0.30355846, 0.47459934],\n",
       "       [0.22157309, 0.30363242, 0.47479448],\n",
       "       [0.22132051, 0.30370088, 0.47497861],\n",
       "       [0.22108343, 0.3037642 , 0.47515237],\n",
       "       [0.22086088, 0.30382274, 0.47531638],\n",
       "       [0.22065197, 0.30387683, 0.4754712 ],\n",
       "       [0.22045586, 0.30392677, 0.47561737],\n",
       "       [0.22027175, 0.30397286, 0.47575539],\n",
       "       [0.2200989 , 0.30401535, 0.47588575],\n",
       "       [0.21993662, 0.3040545 , 0.47600888],\n",
       "       [0.21978424, 0.30409055, 0.47612521],\n",
       "       [0.21964117, 0.30412371, 0.47623513],\n",
       "       [0.21950682, 0.30415418, 0.47633901],\n",
       "       [0.21938066, 0.30418215, 0.47643719],\n",
       "       [0.21926217, 0.30420781, 0.47653001],\n",
       "       [0.2191509 , 0.30423132, 0.47661778],\n",
       "       [0.21904639, 0.30425282, 0.47670078],\n",
       "       [0.21894823, 0.30427248, 0.47677929],\n",
       "       [0.21885603, 0.30429041, 0.47685357]])"
      ]
     },
     "execution_count": 5,
     "metadata": {},
     "output_type": "execute_result"
    }
   ],
   "source": [
    "v['prob'].reshape(100,3)"
   ]
  },
  {
   "cell_type": "markdown",
   "metadata": {},
   "source": [
    "## Rewards in [0,1]"
   ]
  },
  {
   "cell_type": "code",
   "execution_count": 6,
   "metadata": {},
   "outputs": [],
   "source": [
    "x=nm.trwd(Q=Q, x0=x0, t=np.linspace(0, 1, num=100), rwd=rwd)"
   ]
  },
  {
   "cell_type": "code",
   "execution_count": 7,
   "metadata": {},
   "outputs": [
    {
     "data": {
      "image/png": "[encoded data removed]",
      "text/plain": [
       "<Figure size 432x288 with 1 Axes>"
      ]
     },
     "metadata": {
      "needs_background": "light"
     },
     "output_type": "display_data"
    }
   ],
   "source": [
    "plt.plot(x['t'], x['irwd'])\n",
    "plt.show()"
   ]
  },
  {
   "cell_type": "markdown",
   "metadata": {},
   "source": [
    "## Steady-state probability"
   ]
  },
  {
   "cell_type": "code",
   "execution_count": 8,
   "metadata": {},
   "outputs": [
    {
     "name": "stdout",
     "output_type": "stream",
     "text": [
      "[0.2173913  0.30434783 0.47826087]\n"
     ]
    }
   ],
   "source": [
    "pis = nm.sprob(Q)\n",
    "print(pis)"
   ]
  },
  {
   "cell_type": "markdown",
   "metadata": {},
   "source": [
    "## Sensitivity of steady-state probability"
   ]
  },
  {
   "cell_type": "code",
   "execution_count": 9,
   "metadata": {},
   "outputs": [
    {
     "data": {
      "text/plain": [
       "array([-0.02835539,  0.04725898, -0.01890359])"
      ]
     },
     "execution_count": 9,
     "metadata": {},
     "output_type": "execute_result"
    }
   ],
   "source": [
    "nm.ssen(Q, b=pis @ dQ, pis=pis)"
   ]
  },
  {
   "cell_type": "markdown",
   "metadata": {},
   "source": [
    "## Sensitivity of reward in [0,1]"
   ]
  },
  {
   "cell_type": "code",
   "execution_count": 10,
   "metadata": {},
   "outputs": [
    {
     "data": {
      "text/plain": [
       "array([[-5.,  2.,  3., -1.,  1.,  0.],\n",
       "       [ 2., -3.,  1.,  0.,  0.,  0.],\n",
       "       [ 1.,  1., -2.,  0.,  0.,  0.],\n",
       "       [ 0.,  0.,  0., -5.,  2.,  3.],\n",
       "       [ 0.,  0.,  0.,  2., -3.,  1.],\n",
       "       [ 0.,  0.,  0.,  1.,  1., -2.]])"
      ]
     },
     "execution_count": 10,
     "metadata": {},
     "output_type": "execute_result"
    }
   ],
   "source": [
    "Q2 = nm.rblock(nm.cblock(Q, dQ), nm.cblock(np.zeros((3,3)), Q))\n",
    "Q2.tocoo().toarray()"
   ]
  },
  {
   "cell_type": "code",
   "execution_count": 11,
   "metadata": {},
   "outputs": [
    {
     "name": "stdout",
     "output_type": "stream",
     "text": [
      "[1. 0. 0. 0. 0. 0.]\n",
      "[[ 0.  1.]\n",
      " [ 0. 10.]\n",
      " [ 0.  0.]\n",
      " [ 1.  0.]\n",
      " [10.  0.]\n",
      " [ 0.  0.]]\n"
     ]
    }
   ],
   "source": [
    "s0 = np.hstack((x0, np.zeros(3)))\n",
    "r1 = np.hstack((np.zeros(3),rwd))\n",
    "r2 = np.hstack((rwd, np.zeros(3)))\n",
    "r = np.vstack((r1,r2)).T\n",
    "print(s0)\n",
    "print(r)"
   ]
  },
  {
   "cell_type": "code",
   "execution_count": 12,
   "metadata": {},
   "outputs": [],
   "source": [
    "x=nm.trwd(Q=Q2, x0=s0, t=np.linspace(0, 1, num=100), rwd=r)"
   ]
  },
  {
   "cell_type": "code",
   "execution_count": 13,
   "metadata": {},
   "outputs": [
    {
     "data": {
      "image/png": "[encoded data removed]",
      "text/plain": [
       "<Figure size 432x288 with 1 Axes>"
      ]
     },
     "metadata": {
      "needs_background": "light"
     },
     "output_type": "display_data"
    }
   ],
   "source": [
    "plt.plot(x['t'], x['irwd'])\n",
    "plt.show()"
   ]
  },
  {
   "cell_type": "markdown",
   "metadata": {},
   "source": [
    "## Mixture of matrix exponential\n",
    "\n",
    "- integrate the matrix exponential with gamma ditribution with scale = 0.01 and shape = 2"
   ]
  },
  {
   "cell_type": "code",
   "execution_count": 14,
   "metadata": {},
   "outputs": [
    {
     "data": {
      "text/plain": [
       "array([[0.69973495, 0.11937116, 0.18089389],\n",
       "       [0.11202255, 0.80073459, 0.08724286],\n",
       "       [0.06519703, 0.07254564, 0.86225732]])"
      ]
     },
     "execution_count": 14,
     "metadata": {},
     "output_type": "execute_result"
    }
   ],
   "source": [
    "nm.mexpAx_mix(Q, f=stats.gamma.pdf, scale=0.01, a=2)"
   ]
  },
  {
   "cell_type": "code",
   "execution_count": 18,
   "metadata": {},
   "outputs": [
    {
     "data": {
      "text/plain": [
       "(array([[0.21801851, 0.30412742, 0.47785407],\n",
       "        [0.21747564, 0.30551649, 0.47700787],\n",
       "        [0.21705254, 0.30370432, 0.47924314]]),\n",
       " array([[ 4.84868621,  6.57093891, 10.31957173],\n",
       "        [ 4.71828544,  6.78799145, 10.23291995],\n",
       "        [ 4.67495955,  6.52761302, 10.53662427]]))"
      ]
     },
     "execution_count": 18,
     "metadata": {},
     "output_type": "execute_result"
    }
   ],
   "source": [
    "nm.cmexpAx_mix(Q, f=stats.gamma.pdf, scale=1, a=2)"
   ]
  },
  {
   "cell_type": "code",
   "execution_count": null,
   "metadata": {},
   "outputs": [],
   "source": []
  }
 ],
 "metadata": {
  "kernelspec": {
   "display_name": "Python 3",
   "language": "python",
   "name": "python3"
  },
  "language_info": {
   "codemirror_mode": {
    "name": "ipython",
    "version": 3
   },
   "file_extension": ".py",
   "mimetype": "text/x-python",
   "name": "python",
   "nbconvert_exporter": "python",
   "pygments_lexer": "ipython3",
   "version": "3.7.3"
  }
 },
 "nbformat": 4,
 "nbformat_minor": 2
}
