{
 "cells": [
  {
   "cell_type": "code",
   "execution_count": 1,
   "metadata": {},
   "outputs": [],
   "source": [
    "import numpy as np\n",
    "import scipy.sparse as sp\n",
    "import relpy as rp\n",
    "import matplotlib.pyplot as plt"
   ]
  },
  {
   "cell_type": "code",
   "execution_count": 2,
   "metadata": {},
   "outputs": [],
   "source": [
    "with open('model.py', 'w') as f:\n",
    "    script = rp.parse('./ex.sharpe')\n",
    "    f.write(script)"
   ]
  },
  {
   "cell_type": "code",
   "execution_count": 3,
   "metadata": {},
   "outputs": [],
   "source": [
    "import model"
   ]
  },
  {
   "cell_type": "code",
   "execution_count": 4,
   "metadata": {},
   "outputs": [],
   "source": [
    "t = rp.Parameter('t')"
   ]
  },
  {
   "cell_type": "code",
   "execution_count": 5,
   "metadata": {},
   "outputs": [],
   "source": [
    "Non_Computers = model.ftree_Non_Computers(_time=t, mIRS=model.mIRS, mPRS=model.mPRS, mSA=model.mSA)"
   ]
  },
  {
   "cell_type": "code",
   "execution_count": 6,
   "metadata": {},
   "outputs": [],
   "source": [
    "CRASH = model.ftree_CRASH(_time=t, mCS=model.mCS, Non_Computers=Non_Computers)"
   ]
  },
  {
   "cell_type": "code",
   "execution_count": 7,
   "metadata": {},
   "outputs": [
    {
     "data": {
      "text/plain": [
       "{mIRS: 1.5e-05, mPRS: 1.9e-05, mSA: 3.7e-05, mCS: 0.00048}"
      ]
     },
     "execution_count": 7,
     "metadata": {},
     "output_type": "execute_result"
    }
   ],
   "source": [
    "model.env"
   ]
  },
  {
   "cell_type": "code",
   "execution_count": 9,
   "metadata": {},
   "outputs": [
    {
     "data": {
      "text/plain": [
       "1.0238136647355844e-06"
      ]
     },
     "execution_count": 9,
     "metadata": {},
     "output_type": "execute_result"
    }
   ],
   "source": [
    "CRASH.teval(t, 10, model.env)"
   ]
  },
  {
   "cell_type": "code",
   "execution_count": 10,
   "metadata": {},
   "outputs": [],
   "source": [
    "x = np.linspace(0, 10, 100)\n",
    "y = [CRASH.teval(t, u, model.env) for u in x]"
   ]
  },
  {
   "cell_type": "code",
   "execution_count": 11,
   "metadata": {},
   "outputs": [
    {
     "data": {
      "text/plain": [
       "[<matplotlib.lines.Line2D at 0x7efc2647d4e0>]"
      ]
     },
     "execution_count": 11,
     "metadata": {},
     "output_type": "execute_result"
    },
    {
     "data": {
      "image/png": "[encoded data removed]",
      "text/plain": [
       "<Figure size 432x288 with 1 Axes>"
      ]
     },
     "metadata": {
      "needs_background": "light"
     },
     "output_type": "display_data"
    }
   ],
   "source": [
    "plt.plot(x, y)"
   ]
  },
  {
   "cell_type": "code",
   "execution_count": 4,
   "metadata": {},
   "outputs": [
    {
     "data": {
      "text/plain": [
       "3.9004054319669024e-08"
      ]
     },
     "execution_count": 4,
     "metadata": {},
     "output_type": "execute_result"
    }
   ],
   "source": [
    "cache={}\n",
    "sip.CLUSTER.eval(sip.env,cache)"
   ]
  },
  {
   "cell_type": "code",
   "execution_count": 5,
   "metadata": {},
   "outputs": [
    {
     "data": {
      "text/plain": [
       "-1.3523084306780937e-07"
      ]
     },
     "execution_count": 5,
     "metadata": {},
     "output_type": "execute_result"
    }
   ],
   "source": [
    "sip.CLUSTER.deriv(sip.env, sip.b_os, cache)"
   ]
  },
  {
   "cell_type": "code",
   "execution_count": 8,
   "metadata": {},
   "outputs": [
    {
     "data": {
      "text/plain": [
       "{alpha_sp,\n",
       " b,\n",
       " b_os,\n",
       " beta_m,\n",
       " beta_os,\n",
       " c_mp,\n",
       " c_ps,\n",
       " chi_hd,\n",
       " d,\n",
       " delta1,\n",
       " delta2,\n",
       " delta_m,\n",
       " delta_os,\n",
       " e,\n",
       " gamma_die,\n",
       " mu,\n",
       " mu_2c,\n",
       " mu_2hd,\n",
       " mu_2ps,\n",
       " mu_base,\n",
       " mu_c,\n",
       " mu_cpu,\n",
       " mu_esw,\n",
       " mu_hd,\n",
       " mu_mem,\n",
       " mu_mp,\n",
       " mu_nic,\n",
       " mu_os,\n",
       " mu_ps,\n",
       " plambda_base,\n",
       " plambda_c,\n",
       " plambda_cpu,\n",
       " plambda_esw,\n",
       " plambda_hd,\n",
       " plambda_mem,\n",
       " plambda_mp,\n",
       " plambda_nic,\n",
       " plambda_os,\n",
       " plambda_ps,\n",
       " pxy_b,\n",
       " pxy_beta_m,\n",
       " pxy_d,\n",
       " pxy_delta1,\n",
       " pxy_delta2,\n",
       " pxy_delta_m,\n",
       " pxy_e,\n",
       " pxy_gamma_die,\n",
       " pxy_mu,\n",
       " pxy_q,\n",
       " pxy_r,\n",
       " pxy_rou_a,\n",
       " pxy_rou_m,\n",
       " q,\n",
       " r,\n",
       " rou_a,\n",
       " rou_m}"
      ]
     },
     "execution_count": 8,
     "metadata": {},
     "output_type": "execute_result"
    }
   ],
   "source": [
    "sip.CLUSTER.get_paramset()"
   ]
  },
  {
   "cell_type": "code",
   "execution_count": null,
   "metadata": {},
   "outputs": [],
   "source": []
  }
 ],
 "metadata": {
  "kernelspec": {
   "display_name": "Python 3",
   "language": "python",
   "name": "python3"
  },
  "language_info": {
   "codemirror_mode": {
    "name": "ipython",
    "version": 3
   },
   "file_extension": ".py",
   "mimetype": "text/x-python",
   "name": "python",
   "nbconvert_exporter": "python",
   "pygments_lexer": "ipython3",
   "version": "3.7.3"
  }
 },
 "nbformat": 4,
 "nbformat_minor": 2
}
