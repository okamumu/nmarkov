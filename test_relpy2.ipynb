{
 "cells": [
  {
   "cell_type": "code",
   "execution_count": 1,
   "metadata": {},
   "outputs": [],
   "source": [
    "import numpy as np\n",
    "import scipy.sparse as sp\n",
    "import relpy as rp"
   ]
  },
  {
   "cell_type": "code",
   "execution_count": 2,
   "metadata": {},
   "outputs": [],
   "source": [
    "with open('sip.py', 'w') as f:\n",
    "    script = rp.parse('./test.txt')\n",
    "    f.write(script)"
   ]
  },
  {
   "cell_type": "code",
   "execution_count": 3,
   "metadata": {},
   "outputs": [],
   "source": [
    "import sip"
   ]
  },
  {
   "cell_type": "code",
   "execution_count": 4,
   "metadata": {},
   "outputs": [
    {
     "data": {
      "text/plain": [
       "3.9004054319669024e-08"
      ]
     },
     "execution_count": 4,
     "metadata": {},
     "output_type": "execute_result"
    }
   ],
   "source": [
    "cache={}\n",
    "sip.CLUSTER.eval(sip.env,cache)"
   ]
  },
  {
   "cell_type": "code",
   "execution_count": 5,
   "metadata": {},
   "outputs": [
    {
     "data": {
      "text/plain": [
       "-1.3523084306780937e-07"
      ]
     },
     "execution_count": 5,
     "metadata": {},
     "output_type": "execute_result"
    }
   ],
   "source": [
    "sip.CLUSTER.deriv(sip.env, sip.b_os, cache)"
   ]
  },
  {
   "cell_type": "code",
   "execution_count": 8,
   "metadata": {},
   "outputs": [
    {
     "data": {
      "text/plain": [
       "{alpha_sp,\n",
       " b,\n",
       " b_os,\n",
       " beta_m,\n",
       " beta_os,\n",
       " c_mp,\n",
       " c_ps,\n",
       " chi_hd,\n",
       " d,\n",
       " delta1,\n",
       " delta2,\n",
       " delta_m,\n",
       " delta_os,\n",
       " e,\n",
       " gamma_die,\n",
       " mu,\n",
       " mu_2c,\n",
       " mu_2hd,\n",
       " mu_2ps,\n",
       " mu_base,\n",
       " mu_c,\n",
       " mu_cpu,\n",
       " mu_esw,\n",
       " mu_hd,\n",
       " mu_mem,\n",
       " mu_mp,\n",
       " mu_nic,\n",
       " mu_os,\n",
       " mu_ps,\n",
       " plambda_base,\n",
       " plambda_c,\n",
       " plambda_cpu,\n",
       " plambda_esw,\n",
       " plambda_hd,\n",
       " plambda_mem,\n",
       " plambda_mp,\n",
       " plambda_nic,\n",
       " plambda_os,\n",
       " plambda_ps,\n",
       " pxy_b,\n",
       " pxy_beta_m,\n",
       " pxy_d,\n",
       " pxy_delta1,\n",
       " pxy_delta2,\n",
       " pxy_delta_m,\n",
       " pxy_e,\n",
       " pxy_gamma_die,\n",
       " pxy_mu,\n",
       " pxy_q,\n",
       " pxy_r,\n",
       " pxy_rou_a,\n",
       " pxy_rou_m,\n",
       " q,\n",
       " r,\n",
       " rou_a,\n",
       " rou_m}"
      ]
     },
     "execution_count": 8,
     "metadata": {},
     "output_type": "execute_result"
    }
   ],
   "source": [
    "sip.CLUSTER.get_paramset()"
   ]
  },
  {
   "cell_type": "code",
   "execution_count": null,
   "metadata": {},
   "outputs": [],
   "source": []
  }
 ],
 "metadata": {
  "kernelspec": {
   "display_name": "Python 3",
   "language": "python",
   "name": "python3"
  },
  "language_info": {
   "codemirror_mode": {
    "name": "ipython",
    "version": 3
   },
   "file_extension": ".py",
   "mimetype": "text/x-python",
   "name": "python",
   "nbconvert_exporter": "python",
   "pygments_lexer": "ipython3",
   "version": "3.7.3"
  }
 },
 "nbformat": 4,
 "nbformat_minor": 2
}
