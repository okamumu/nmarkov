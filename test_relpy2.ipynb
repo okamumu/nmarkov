{
 "cells": [
  {
   "cell_type": "code",
   "execution_count": 1,
   "metadata": {},
   "outputs": [],
   "source": [
    "import numpy as np\n",
    "import scipy.sparse as sp\n",
    "import relpy as rp"
   ]
  },
  {
   "cell_type": "code",
   "execution_count": 2,
   "metadata": {},
   "outputs": [],
   "source": [
    "with open('out.py', 'w') as f:\n",
    "    script = rp.parse('./test.txt')\n",
    "    f.write(script)"
   ]
  },
  {
   "cell_type": "code",
   "execution_count": 3,
   "metadata": {},
   "outputs": [],
   "source": [
    "import out"
   ]
  },
  {
   "cell_type": "code",
   "execution_count": 7,
   "metadata": {},
   "outputs": [
    {
     "data": {
      "text/plain": [
       "3.9004054319669024e-08"
      ]
     },
     "execution_count": 7,
     "metadata": {},
     "output_type": "execute_result"
    }
   ],
   "source": [
    "out.CLUSTER.eval(out.env)"
   ]
  },
  {
   "cell_type": "code",
   "execution_count": 10,
   "metadata": {},
   "outputs": [
    {
     "data": {
      "text/plain": [
       "-1.3523084306780937e-07"
      ]
     },
     "execution_count": 10,
     "metadata": {},
     "output_type": "execute_result"
    }
   ],
   "source": [
    "out.CLUSTER.deriv(out.env, out.b_os)"
   ]
  },
  {
   "cell_type": "code",
   "execution_count": 8,
   "metadata": {},
   "outputs": [
    {
     "data": {
      "text/plain": [
       "{b_os: 0.95,\n",
       " rou_a: 41.0390478956483,\n",
       " delta_m: 2,\n",
       " pxy_rou_a: 76.1791903844933,\n",
       " rou_m: 10.9849424929091,\n",
       " mu_esw: 2,\n",
       " phi: 1241.37931034483,\n",
       " mo_new: 3,\n",
       " mu_ps: 2,\n",
       " pxy_rou_m: 12.5323316751202,\n",
       " n_i: 3,\n",
       " delta_os: 2,\n",
       " plambda_esw: 4.07871429136622e-07,\n",
       " pxy_beta_m: 5.38628248508112,\n",
       " mu_base: 2,\n",
       " n_o: 4,\n",
       " mu_nic: 2,\n",
       " pxy_delta1: 3600,\n",
       " pxy_delta2: 5.24781341107872,\n",
       " plambda_c: 2.0547943798086e-07,\n",
       " mu_mp: 2,\n",
       " plambda_nic: 6.43835819290738e-07,\n",
       " gamma_die: 0.000342465753424658,\n",
       " m_stable1: 4,\n",
       " m_stable2: 4,\n",
       " m_setup: 4,\n",
       " beta_m: 5.40946656649136,\n",
       " pxy_gamma_die: 0.000342465753424658,\n",
       " beta_os: 6,\n",
       " plambda_os: 0.000114155251141553,\n",
       " plambda_hd: 1.2214605736956e-06,\n",
       " pxy_gamma_hang: 0.000342465753424658,\n",
       " mu_c: 2,\n",
       " delta1: 356.282784139751,\n",
       " delta2: 5.24781341107872,\n",
       " plambda: 100,\n",
       " mu_mem: 2,\n",
       " mu_2c: 1.71428571428571,\n",
       " t_setup: 0.00416666666666667,\n",
       " plambda_base: 3.49314470351934e-06,\n",
       " plambda_mem: 1.12442935210381e-06,\n",
       " mu_2hd: 1.71428571428571,\n",
       " pxy_delta_m: 2,\n",
       " gamma_hang: 0.000342465753424658,\n",
       " pxy_phi: 360,\n",
       " pxy_mu: 0.25,\n",
       " plambda_ps: 2.46575072246496e-06,\n",
       " chi_hd: 12,\n",
       " rw_i: 0.00111111111111111,\n",
       " mu_cpu: 2,\n",
       " b: 0.95,\n",
       " c: 0.95,\n",
       " rw_o: 0.00333333333333333,\n",
       " d: 0.95,\n",
       " e: 0.95,\n",
       " c_ps: 0.99,\n",
       " pxy_b: 0.95,\n",
       " pxy_c: 0.95,\n",
       " plambda_cpu: 8.10502162825022e-07,\n",
       " mu_2ps: 1.71428571428571,\n",
       " pxy_d: 0.95,\n",
       " pxy_e: 0.95,\n",
       " t_stable1: 0.0125,\n",
       " t_stable2: 0.0166666666666667,\n",
       " mu_os: 2,\n",
       " q: 0.95,\n",
       " alpha_sp: 0.4,\n",
       " mi_new: 2,\n",
       " r: 0.95,\n",
       " mu_hd: 2,\n",
       " plambda_mp: 1.60958799376124e-06,\n",
       " mu: 0.25,\n",
       " pxy_q: 0.95,\n",
       " pxy_r: 0.95,\n",
       " c_mp: 0.0036101083032491}"
      ]
     },
     "execution_count": 8,
     "metadata": {},
     "output_type": "execute_result"
    }
   ],
   "source": [
    "out.env"
   ]
  },
  {
   "cell_type": "code",
   "execution_count": 9,
   "metadata": {},
   "outputs": [
    {
     "data": {
      "text/plain": [
       "{alpha_sp,\n",
       " b,\n",
       " b_os,\n",
       " beta_m,\n",
       " beta_os,\n",
       " c_mp,\n",
       " c_ps,\n",
       " chi_hd,\n",
       " d,\n",
       " delta1,\n",
       " delta2,\n",
       " delta_m,\n",
       " delta_os,\n",
       " e,\n",
       " gamma_die,\n",
       " mu,\n",
       " mu_2c,\n",
       " mu_2hd,\n",
       " mu_2ps,\n",
       " mu_base,\n",
       " mu_c,\n",
       " mu_cpu,\n",
       " mu_esw,\n",
       " mu_hd,\n",
       " mu_mem,\n",
       " mu_mp,\n",
       " mu_nic,\n",
       " mu_os,\n",
       " mu_ps,\n",
       " plambda_base,\n",
       " plambda_c,\n",
       " plambda_cpu,\n",
       " plambda_esw,\n",
       " plambda_hd,\n",
       " plambda_mem,\n",
       " plambda_mp,\n",
       " plambda_nic,\n",
       " plambda_os,\n",
       " plambda_ps,\n",
       " pxy_b,\n",
       " pxy_beta_m,\n",
       " pxy_d,\n",
       " pxy_delta1,\n",
       " pxy_delta2,\n",
       " pxy_delta_m,\n",
       " pxy_e,\n",
       " pxy_gamma_die,\n",
       " pxy_mu,\n",
       " pxy_q,\n",
       " pxy_r,\n",
       " pxy_rou_a,\n",
       " pxy_rou_m,\n",
       " q,\n",
       " r,\n",
       " rou_a,\n",
       " rou_m}"
      ]
     },
     "execution_count": 9,
     "metadata": {},
     "output_type": "execute_result"
    }
   ],
   "source": [
    "out.CLUSTER.get_paramset()"
   ]
  },
  {
   "cell_type": "code",
   "execution_count": null,
   "metadata": {},
   "outputs": [],
   "source": []
  }
 ],
 "metadata": {
  "kernelspec": {
   "display_name": "Python 3",
   "language": "python",
   "name": "python3"
  },
  "language_info": {
   "codemirror_mode": {
    "name": "ipython",
    "version": 3
   },
   "file_extension": ".py",
   "mimetype": "text/x-python",
   "name": "python",
   "nbconvert_exporter": "python",
   "pygments_lexer": "ipython3",
   "version": "3.7.3"
  }
 },
 "nbformat": 4,
 "nbformat_minor": 2
}
