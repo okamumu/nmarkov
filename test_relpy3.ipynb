{
 "cells": [
  {
   "cell_type": "code",
   "execution_count": 1,
   "metadata": {},
   "outputs": [],
   "source": [
    "import numpy as np\n",
    "import scipy.sparse as sp\n",
    "import relpy as rp\n",
    "import matplotlib.pyplot as plt\n",
    "import pydotplus\n",
    "from IPython.display import Image\n",
    "import time"
   ]
  },
  {
   "cell_type": "code",
   "execution_count": 2,
   "metadata": {},
   "outputs": [],
   "source": [
    "def draw(x):\n",
    "    dotf = x.todot()\n",
    "    g = pydotplus.graph_from_dot_data(dotf)\n",
    "    return Image(g.create_png())"
   ]
  },
  {
   "cell_type": "code",
   "execution_count": 3,
   "metadata": {},
   "outputs": [
    {
     "name": "stdout",
     "output_type": "stream",
     "text": [
      "include ./param_sharpe\n",
      "include ./models.txt\n"
     ]
    }
   ],
   "source": [
    "with open('sip.py', 'w') as f:\n",
    "    script = rp.parse('./avail.txt')\n",
    "    f.write(script)"
   ]
  },
  {
   "cell_type": "code",
   "execution_count": 4,
   "metadata": {},
   "outputs": [],
   "source": [
    "from sip import *"
   ]
  },
  {
   "cell_type": "code",
   "execution_count": 5,
   "metadata": {},
   "outputs": [],
   "source": [
    "_time = rp.Parameter('t')\n",
    "gamma = bind_gamma(gamma_die, gamma_hang)\n",
    "pxy_gamma = bind_pxy_gamma(pxy_gamma_die, pxy_gamma_hang)\n",
    "pairup = ctmc_pairup(b, beta_m, c, d, delta1, delta2, delta_m, e, gamma, mu, phi, q, r, rou_a, rou_m)\n",
    "pxy_pairup = ctmc_pxy_pairup(pxy_b, pxy_beta_m, pxy_c, pxy_d, pxy_delta1, pxy_delta2, pxy_delta_m, pxy_e, pxy_gamma, pxy_mu, pxy_phi, pxy_q, pxy_r, pxy_rou_a, pxy_rou_m)\n",
    "appserver = ctmc_appserver(b, beta_m, d, delta1, delta2, delta_m, e, gamma, mu, q, r, rou_a, rou_m)\n",
    "proxy = ctmc_proxy(pxy_b, pxy_beta_m, pxy_d, pxy_delta1, pxy_delta2, pxy_delta_m, pxy_e, pxy_gamma, pxy_mu, pxy_q, pxy_r, pxy_rou_a, pxy_rou_m)\n",
    "midplane = ctmc_midplane(alpha_sp, c_mp, mu_mp, plambda_mp)\n",
    "cooling = ctmc_cooling(alpha_sp, mu_2c, mu_c, plambda_c)\n",
    "power = ctmc_power(alpha_sp, c_ps, mu_2ps, mu_ps, plambda_ps)\n",
    "processor = ctmc_processor(alpha_sp, mu_cpu, plambda_cpu)\n",
    "memory = ctmc_memory(alpha_sp, mu_mem, plambda_mem)\n",
    "disk = ctmc_disk(alpha_sp, chi_hd, mu_2hd, mu_hd, plambda_hd)\n",
    "base = ctmc_base(alpha_sp, mu_base, plambda_base)\n",
    "OS = ctmc_OS(alpha_sp, b_os, beta_os, delta_os, mu_os, plambda_os)\n",
    "nic = ctmc_nic(alpha_sp, mu_nic, plambda_nic)\n",
    "switch = ctmc_switch(alpha_sp, mu_esw, plambda_esw)\n",
    "f_esw = bind_f_esw(plambda_esw, switch)\n",
    "f_nic = bind_f_nic(nic, plambda_nic)\n",
    "u_esw = bind_u_esw(f_esw, switch)\n",
    "u_nic = bind_u_nic(f_nic, nic)\n",
    "network = ftree_network(_time, plambda_esw, plambda_nic)\n",
    "CM = ftree_CM(cooling, midplane, power)\n",
    "BLADE = ftree_BLADE(OS, base, disk, memory, processor)\n",
    "CLUSTER = ftree_CLUSTER(BLADE, CM, appserver, nic, proxy, switch)\n"
   ]
  },
  {
   "cell_type": "code",
   "execution_count": 6,
   "metadata": {},
   "outputs": [
    {
     "name": "stdout",
     "output_type": "stream",
     "text": [
      "elapsed_time:0.1391749382019043 [sec]\n"
     ]
    }
   ],
   "source": [
    "start = time.time()\n",
    "x = CLUSTER.seval(env)\n",
    "print(\"elapsed_time:{0} [sec]\".format(time.time() - start))"
   ]
  },
  {
   "cell_type": "code",
   "execution_count": 7,
   "metadata": {},
   "outputs": [
    {
     "name": "stdout",
     "output_type": "stream",
     "text": [
      "58\n"
     ]
    }
   ],
   "source": [
    "params = CLUSTER.paramlist()\n",
    "print(len(params))"
   ]
  },
  {
   "cell_type": "code",
   "execution_count": 8,
   "metadata": {},
   "outputs": [
    {
     "name": "stdout",
     "output_type": "stream",
     "text": [
      "elapsed_time:1.3399717807769775 [sec]\n"
     ]
    },
    {
     "data": {
      "text/plain": [
       "4.217352743086264e-14"
      ]
     },
     "execution_count": 8,
     "metadata": {},
     "output_type": "execute_result"
    }
   ],
   "source": [
    "start = time.time()\n",
    "ddx = CLUSTER.sderiv2(env, params[0], params[1])\n",
    "print(\"elapsed_time:{0} [sec]\".format(time.time() - start))\n",
    "ddx"
   ]
  },
  {
   "cell_type": "code",
   "execution_count": 9,
   "metadata": {},
   "outputs": [
    {
     "name": "stdout",
     "output_type": "stream",
     "text": [
      "elapsed_time:23.25560188293457 [sec]\n"
     ]
    }
   ],
   "source": [
    "start = time.time()\n",
    "dx = [CLUSTER.sderiv(env, x) for x in params]\n",
    "print(\"elapsed_time:{0} [sec]\".format(time.time() - start))"
   ]
  },
  {
   "cell_type": "code",
   "execution_count": null,
   "metadata": {},
   "outputs": [],
   "source": [
    "start = time.time()\n",
    "dxx = [[CLUSTER.sderiv2(env, x1, x2) for x1 in params] for x2 in params]\n",
    "print(\"elapsed_time:{0} [sec]\".format(time.time() - start))"
   ]
  }
 ],
 "metadata": {
  "kernelspec": {
   "display_name": "Python 3",
   "language": "python",
   "name": "python3"
  },
  "language_info": {
   "codemirror_mode": {
    "name": "ipython",
    "version": 3
   },
   "file_extension": ".py",
   "mimetype": "text/x-python",
   "name": "python",
   "nbconvert_exporter": "python",
   "pygments_lexer": "ipython3",
   "version": "3.7.3"
  }
 },
 "nbformat": 4,
 "nbformat_minor": 2
}
